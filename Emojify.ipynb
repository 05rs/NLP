{
  "nbformat": 4,
  "nbformat_minor": 0,
  "metadata": {
    "coursera": {
      "course_slug": "nlp-sequence-models",
      "graded_item_id": "RNnEs",
      "launcher_item_id": "acNYU"
    },
    "kernelspec": {
      "display_name": "Python 3",
      "language": "python",
      "name": "python3"
    },
    "language_info": {
      "codemirror_mode": {
        "name": "ipython",
        "version": 3
      },
      "file_extension": ".py",
      "mimetype": "text/x-python",
      "name": "python",
      "nbconvert_exporter": "python",
      "pygments_lexer": "ipython3",
      "version": "3.6.0"
    },
    "colab": {
      "name": "Emojify_v2a.ipynb",
      "provenance": []
    }
  },
  "cells": [
    {
      "cell_type": "markdown",
      "metadata": {
        "id": "_IG4Ka41N9Ni"
      },
      "source": [
        "# Emojify! \n",
        "\n",
        "\n",
        ">\"Congratulations on the promotion! Let's get coffee and talk. Love you!\"   \n",
        "\n",
        "The emojifier can automatically turn this into:\n",
        ">\"Congratulations on the promotion! 👍 Let's get coffee and talk. ☕️ Love you! ❤️\"\n",
        "\n",
        "\n",
        "\n",
        "\n",
        "\n"
      ]
    },
    {
      "cell_type": "code",
      "metadata": {
        "collapsed": true,
        "id": "W1jgSCgBN9Nx"
      },
      "source": [
        "import numpy as np\n",
        "from emo_utils import *\n",
        "import emoji\n",
        "import matplotlib.pyplot as plt\n",
        "%matplotlib inline"
      ],
      "execution_count": null,
      "outputs": []
    },
    {
      "cell_type": "markdown",
      "metadata": {
        "id": "jSaQNzJlN9Ny"
      },
      "source": [
        "## Emojifier\n",
        "\n",
        "### Dataset EMOJISET\n",
        "\n",
        "- X contains 127 sentences (strings).\n",
        "- Y contains an integer label between 0 and 4 corresponding to an emoji for each sentence.\n",
        "\n",
        "<img src=\"https://github.com/05rs/Deep-Learning/blob/master/Sequence%20Model/Week%202/Emojify/images/data_set.png?raw=1\" style=\"width:700px;height:300px;\">\n",
        "<caption><center> EMOJISET - a classification problem with 5 classes. A few examples of sentences are given here. </center></caption>\n",
        "\n",
        "Let's load the dataset using the code below. We split the dataset between training (127 examples) and testing (56 examples)."
      ]
    },
    {
      "cell_type": "code",
      "metadata": {
        "collapsed": true,
        "id": "KlCopQ7nN9Nz"
      },
      "source": [
        "X_train, Y_train = read_csv('data/train_emoji.csv')\n",
        "X_test, Y_test = read_csv('data/tesss.csv')"
      ],
      "execution_count": null,
      "outputs": []
    },
    {
      "cell_type": "code",
      "metadata": {
        "collapsed": true,
        "id": "_Cb_z_C3N9Nz"
      },
      "source": [
        "maxLen = len(max(X_train, key=len).split())"
      ],
      "execution_count": null,
      "outputs": []
    },
    {
      "cell_type": "code",
      "metadata": {
        "id": "NwMrcu5TN9N0",
        "outputId": "f99ef719-14e3-4519-b2aa-50f953c8d615"
      },
      "source": [
        "for idx in range(10):\n",
        "    print(X_train[idx], label_to_emoji(Y_train[idx]))"
      ],
      "execution_count": null,
      "outputs": [
        {
          "output_type": "stream",
          "text": [
            "never talk to me again 😞\n",
            "I am proud of your achievements 😄\n",
            "It is the worst day in my life 😞\n",
            "Miss you so much ❤️\n",
            "food is life 🍴\n",
            "I love you mum ❤️\n",
            "Stop saying bullshit 😞\n",
            "congratulations on your acceptance 😄\n",
            "The assignment is too long  😞\n",
            "I want to go play ⚾\n"
          ],
          "name": "stdout"
        }
      ]
    },
    {
      "cell_type": "markdown",
      "metadata": {
        "id": "99-U6xt5N9N2"
      },
      "source": [
        "### 1.2 - Overview of the Emojifier\n",
        "\n",
        " \n",
        "\n",
        "<center>\n",
        "<img src=\"https://github.com/05rs/Deep-Learning/blob/master/Sequence%20Model/Week%202/Emojify/images/image_1.png?raw=1\" style=\"width:900px;height:300px;\">\n",
        "<caption><center> **Figure 2**: Baseline model (Emojifier-V1).</center></caption>\n",
        "</center>\n"
      ]
    },
    {
      "cell_type": "markdown",
      "metadata": {
        "id": "vj5-iUYhN9N3"
      },
      "source": [
        "#### One-hot encoding\n"
      ]
    },
    {
      "cell_type": "code",
      "metadata": {
        "collapsed": true,
        "id": "WYXhfvi4N9N3"
      },
      "source": [
        "Y_oh_train = convert_to_one_hot(Y_train, C = 5)\n",
        "Y_oh_test = convert_to_one_hot(Y_test, C = 5)"
      ],
      "execution_count": null,
      "outputs": []
    },
    {
      "cell_type": "code",
      "metadata": {
        "id": "uAcormAbN9N4",
        "outputId": "41f2feb3-f94f-4c52-a6e5-b679ee27941b"
      },
      "source": [
        "idx = 50\n",
        "print(f\"Sentence '{X_train[50]}' has label index {Y_train[idx]}, which is emoji {label_to_emoji(Y_train[idx])}\", )\n",
        "print(f\"Label index {Y_train[idx]} in one-hot encoding format is {Y_oh_train[idx]}\")"
      ],
      "execution_count": null,
      "outputs": [
        {
          "output_type": "stream",
          "text": [
            "Sentence 'I missed you' has label index 0, which is emoji ❤️\n",
            "Label index 0 in one-hot encoding format is [ 1.  0.  0.  0.  0.]\n"
          ],
          "name": "stdout"
        }
      ]
    },
    {
      "cell_type": "markdown",
      "metadata": {
        "id": "9s_Lc9e7N9N6"
      },
      "source": [
        "###  Implementing Emojifier-V1 (Word Vector Only)\n",
        "\n",
        "* Convert each word in the input sentence into their word vector representations.\n",
        "* Then take an average of the word vectors. \n",
        "* use GloVe embeddings. \n",
        "\n"
      ]
    },
    {
      "cell_type": "code",
      "metadata": {
        "collapsed": true,
        "id": "zDlC6PiYN9N6"
      },
      "source": [
        "word_to_index, index_to_word, word_to_vec_map = read_glove_vecs('../../readonly/glove.6B.50d.txt')"
      ],
      "execution_count": null,
      "outputs": []
    },
    {
      "cell_type": "markdown",
      "metadata": {
        "id": "uQYeQYW0N9N7"
      },
      "source": [
        "- `word_to_index`: dictionary mapping from words to their indices in the vocabulary \n",
        "    - (400,001 words, with the valid indices ranging from 0 to 400,000)\n",
        "- `index_to_word`: dictionary mapping from indices to their corresponding words in the vocabulary\n",
        "- `word_to_vec_map`: dictionary mapping words to their GloVe vector representation.\n"
      ]
    },
    {
      "cell_type": "code",
      "metadata": {
        "collapsed": true,
        "id": "-RFKi0n7N9N9"
      },
      "source": [
        "def sentence_to_avg(sentence, word_to_vec_map):\n",
        "    words = sentence.lower().split()\n",
        "    avg = np.zeros((50,))\n",
        "    total = 0\n",
        "    for w in words:\n",
        "        total += word_to_vec_map[w]\n",
        "    avg = total/len(words)\n",
        "  \n",
        "    return avg"
      ],
      "execution_count": null,
      "outputs": []
    },
    {
      "cell_type": "code",
      "metadata": {
        "scrolled": true,
        "id": "YecBi3SBN9N-",
        "outputId": "cdcbed48-e9bd-4462-fc4b-bd969a54e372"
      },
      "source": [
        "avg = sentence_to_avg(\"Morrocan couscous is my favorite dish\", word_to_vec_map)\n",
        "print(\"avg = \\n\", avg)"
      ],
      "execution_count": null,
      "outputs": [
        {
          "output_type": "stream",
          "text": [
            "avg = \n",
            " [-0.008005    0.56370833 -0.50427333  0.258865    0.55131103  0.03104983\n",
            " -0.21013718  0.16893933 -0.09590267  0.141784   -0.15708967  0.18525867\n",
            "  0.6495785   0.38371117  0.21102167  0.11301667  0.02613967  0.26037767\n",
            "  0.05820667 -0.01578167 -0.12078833 -0.02471267  0.4128455   0.5152061\n",
            "  0.38756167 -0.898661   -0.535145    0.33501167  0.68806933 -0.2156265\n",
            "  1.797155    0.10476933 -0.36775333  0.750785    0.10282583  0.348925\n",
            " -0.27262833  0.66768    -0.10706167 -0.283635    0.59580117  0.28747333\n",
            " -0.3366635   0.23393817  0.34349183  0.178405    0.1166155  -0.076433\n",
            "  0.1445417   0.09808667]\n"
          ],
          "name": "stdout"
        }
      ]
    },
    {
      "cell_type": "markdown",
      "metadata": {
        "id": "XQdMpncWN9OD"
      },
      "source": [
        "### Examining test set performance \n"
      ]
    },
    {
      "cell_type": "code",
      "metadata": {
        "scrolled": false,
        "id": "8Sthdh08N9OE",
        "outputId": "b5cf8fee-0db1-43ca-fa79-69b0da902143"
      },
      "source": [
        "print(\"Training set:\")\n",
        "pred_train = predict(X_train, Y_train, W, b, word_to_vec_map)\n",
        "print('Test set:')\n",
        "pred_test = predict(X_test, Y_test, W, b, word_to_vec_map)"
      ],
      "execution_count": null,
      "outputs": [
        {
          "output_type": "stream",
          "text": [
            "Training set:\n",
            "Accuracy: 0.977272727273\n",
            "Test set:\n",
            "Accuracy: 0.857142857143\n"
          ],
          "name": "stdout"
        }
      ]
    },
    {
      "cell_type": "code",
      "metadata": {
        "id": "ZWijMZdeN9OF",
        "outputId": "7a026338-db20-47f1-cdcf-4911626cd1dc"
      },
      "source": [
        "X_my_sentences = np.array([\"i adore you\", \"i love you\", \"funny lol\", \"lets play with a ball\", \"food is ready\", \"not feeling happy\"])\n",
        "Y_my_labels = np.array([[0], [0], [2], [1], [4],[3]])\n",
        "\n",
        "pred = predict(X_my_sentences, Y_my_labels , W, b, word_to_vec_map)\n",
        "print_predictions(X_my_sentences, pred)"
      ],
      "execution_count": null,
      "outputs": [
        {
          "output_type": "stream",
          "text": [
            "Accuracy: 0.833333333333\n",
            "\n",
            "i adore you ❤️\n",
            "i love you ❤️\n",
            "funny lol 😄\n",
            "lets play with a ball ⚾\n",
            "food is ready 🍴\n",
            "not feeling happy 😄\n"
          ],
          "name": "stdout"
        }
      ]
    },
    {
      "cell_type": "markdown",
      "metadata": {
        "id": "sJhGE4ojN9OF"
      },
      "source": [
        "### Problems\n",
        "#### Word ordering isn't considered in this model\n",
        "* Note that the model doesn't get the following sentence correct:\n",
        ">\"not feeling happy\" \n",
        "\n",
        "* This algorithm ignores word ordering, so is not good at understanding phrases like \"not happy.\" \n",
        "\n",
        "#### Confusion matrix\n",
        "* Printing the confusion matrix can also help understand which classes are more difficult for your model. \n"
      ]
    },
    {
      "cell_type": "code",
      "metadata": {
        "id": "ek0mJuqlN9OF",
        "outputId": "8d869168-e053-450b-bfcf-50b67e7300df"
      },
      "source": [
        "print(Y_test.shape)\n",
        "print('           '+ label_to_emoji(0)+ '    ' + label_to_emoji(1) + '    ' +  label_to_emoji(2)+ '    ' + label_to_emoji(3)+'   ' + label_to_emoji(4))\n",
        "print(pd.crosstab(Y_test, pred_test.reshape(56,), rownames=['Actual'], colnames=['Predicted'], margins=True))\n",
        "plot_confusion_matrix(Y_test, pred_test)"
      ],
      "execution_count": null,
      "outputs": [
        {
          "output_type": "stream",
          "text": [
            "(56,)\n",
            "           ❤️    ⚾    😄    😞   🍴\n",
            "Predicted  0.0  1.0  2.0  3.0  4.0  All\n",
            "Actual                                 \n",
            "0            6    0    0    1    0    7\n",
            "1            0    8    0    0    0    8\n",
            "2            2    0   16    0    0   18\n",
            "3            1    1    2   12    0   16\n",
            "4            0    0    1    0    6    7\n",
            "All          9    9   19   13    6   56\n"
          ],
          "name": "stdout"
        },
        {
          "output_type": "display_data",
          "data": {
            "image/png": "[encoded data removed]",
            "text/plain": [
              "<matplotlib.figure.Figure at 0x7fdce0258668>"
            ]
          },
          "metadata": {
            "tags": []
          }
        }
      ]
    },
    {
      "cell_type": "markdown",
      "metadata": {
        "id": "-8NGI8_vN9OG"
      },
      "source": [
        "## Emojifier-V2 (Using LSTMs in Keras)\n",
        "\n",
        "\n",
        "\n",
        "\n",
        "\n",
        "\n"
      ]
    },
    {
      "cell_type": "code",
      "metadata": {
        "id": "nYOyocjiN9OH",
        "outputId": "33f45217-677f-484d-b385-bf00c5e826d9"
      },
      "source": [
        "import numpy as np\n",
        "np.random.seed(0)\n",
        "from keras.models import Model\n",
        "from keras.layers import Dense, Input, Dropout, LSTM, Activation\n",
        "from keras.layers.embeddings import Embedding\n",
        "from keras.preprocessing import sequence\n",
        "\n",
        "np.random.seed(1)"
      ],
      "execution_count": null,
      "outputs": [
        {
          "output_type": "stream",
          "text": [
            "Using TensorFlow backend.\n"
          ],
          "name": "stderr"
        }
      ]
    },
    {
      "cell_type": "markdown",
      "metadata": {
        "id": "WyM43wPUN9OH"
      },
      "source": [
        "### 2.1 - Overview of the model\n",
        "\n",
        "\n",
        "<img src=\"https://github.com/05rs/Deep-Learning/blob/master/Sequence%20Model/Week%202/Emojify/images/emojifier-v2.png?raw=1\" style=\"width:700px;height:400px;\"> <br>\n",
        "<caption><center> **Figure 3**: Emojifier-V2. A 2-layer LSTM sequence classifier. </center></caption>\n",
        "\n"
      ]
    },
    {
      "cell_type": "code",
      "metadata": {
        "id": "Z7Tv9-jAN9OJ",
        "outputId": "8625bcd3-0a79-49f4-f3e7-48f8d15cad6b"
      },
      "source": [
        "for idx, val in enumerate([\"I\", \"like\", \"learning\"]):\n",
        "    print(idx,val)"
      ],
      "execution_count": null,
      "outputs": [
        {
          "output_type": "stream",
          "text": [
            "0 I\n",
            "1 like\n",
            "2 learning\n"
          ],
          "name": "stdout"
        }
      ]
    },
    {
      "cell_type": "code",
      "metadata": {
        "collapsed": true,
        "id": "Eb-gLCBWN9OJ"
      },
      "source": [
        "def sentences_to_indices(X, word_to_index, max_len):\n",
        "      \n",
        "    m = X.shape[0]                                   # number of training examples\n",
        "    \n",
        "    X_indices = np.zeros((m,max_len))\n",
        "    \n",
        "    for i in range(m):                               # loop over training examples\n",
        "        sentence_words = X[i].lower().split()\n",
        "        j = 0\n",
        "        for w in sentence_words:\n",
        "            X_indices[i, j] = word_to_index[w]\n",
        "            j = j+1\n",
        "               \n",
        "    return X_indices"
      ],
      "execution_count": null,
      "outputs": []
    },
    {
      "cell_type": "code",
      "metadata": {
        "id": "z1t2zcaMN9OK",
        "outputId": "1bbf2147-468a-4501-a8ab-09a4efbd658f"
      },
      "source": [
        "X1 = np.array([\"funny lol\", \"lets play baseball\", \"food is ready for you\"])\n",
        "X1_indices = sentences_to_indices(X1,word_to_index, max_len = 5)\n",
        "print(\"X1 =\", X1)\n",
        "print(\"X1_indices =\\n\", X1_indices)"
      ],
      "execution_count": null,
      "outputs": [
        {
          "output_type": "stream",
          "text": [
            "X1 = ['funny lol' 'lets play baseball' 'food is ready for you']\n",
            "X1_indices =\n",
            " [[ 155345.  225122.       0.       0.       0.]\n",
            " [ 220930.  286375.   69714.       0.       0.]\n",
            " [ 151204.  192973.  302254.  151349.  394475.]]\n"
          ],
          "name": "stdout"
        }
      ]
    },
    {
      "cell_type": "code",
      "metadata": {
        "collapsed": true,
        "id": "RNLrwqJRN9OM"
      },
      "source": [
        "def pretrained_embedding_layer(word_to_vec_map, word_to_index):\n",
        "     \n",
        "    vocab_len = len(word_to_index) + 1                  \n",
        "    emb_dim = word_to_vec_map[\"cucumber\"].shape[0]  \n",
        "    emb_matrix = np.zeros((vocab_len,emb_dim))\n",
        "    for word, idx in word_to_index.items():\n",
        "        emb_matrix[idx, :] = word_to_vec_map[word]\n",
        "\n",
        "    embedding_layer = Embedding(vocab_len, emb_dim, trainable = False)\n",
        "    \n",
        "    embedding_layer.build((None,))\n",
        "    embedding_layer.set_weights([emb_matrix])\n",
        "    \n",
        "    return embedding_layer"
      ],
      "execution_count": null,
      "outputs": []
    },
    {
      "cell_type": "code",
      "metadata": {
        "id": "JXdkQr6dN9ON",
        "outputId": "3bea09fd-4c79-40a5-b1d7-4cc82b196caf"
      },
      "source": [
        "embedding_layer = pretrained_embedding_layer(word_to_vec_map, word_to_index)\n",
        "print(\"weights[0][1][3] =\", embedding_layer.get_weights()[0][1][3])"
      ],
      "execution_count": null,
      "outputs": [
        {
          "output_type": "stream",
          "text": [
            "weights[0][1][3] = -0.3403\n"
          ],
          "name": "stdout"
        }
      ]
    },
    {
      "cell_type": "markdown",
      "metadata": {
        "id": "4bH7vcAlN9ON"
      },
      "source": [
        "## Emojifier-V2\n",
        "* embedding layer's output to an LSTM network. \n",
        "\n",
        "<img src=\"https://github.com/05rs/Deep-Learning/blob/master/Sequence%20Model/Week%202/Emojify/images/emojifier-v2.png?raw=1\" style=\"width:700px;height:400px;\"> <br>\n",
        "<caption><center> **Figure 3**: Emojifier-v2. A 2-layer LSTM sequence classifier. </center></caption>\n",
        "\n",
        "\n",
        "\n"
      ]
    },
    {
      "cell_type": "code",
      "metadata": {
        "collapsed": true,
        "id": "0nEKfyI6N9OO"
      },
      "source": [
        "def Emojify_V2(input_shape, word_to_vec_map, word_to_index):\n",
        "    sentence_indices = Input(input_shape, dtype = 'int32')\n",
        "    embedding_layer = pretrained_embedding_layer(word_to_vec_map, word_to_index)\n",
        "    embeddings = embedding_layer(sentence_indices)   \n",
        "    X = LSTM(128, return_sequences = True)(embeddings)\n",
        "    X = Dropout(0.5)(X)\n",
        "    X = LSTM(128, return_sequences = False)(X)\n",
        "    X = Dropout(0.5)(X)\n",
        "    X = Dense(5)(X)\n",
        "    X = Activation('softmax')(X)\n",
        "    model = Model(inputs = sentence_indices, outputs = X)\n",
        "    return model"
      ],
      "execution_count": null,
      "outputs": []
    },
    {
      "cell_type": "code",
      "metadata": {
        "scrolled": false,
        "id": "rZJUUbLlN9OO",
        "outputId": "7d003b02-cdcd-43fc-bca8-402b2204be8a"
      },
      "source": [
        "model = Emojify_V2((maxLen,), word_to_vec_map, word_to_index)\n",
        "model.summary()"
      ],
      "execution_count": null,
      "outputs": [
        {
          "output_type": "stream",
          "text": [
            "_________________________________________________________________\n",
            "Layer (type)                 Output Shape              Param #   \n",
            "=================================================================\n",
            "input_1 (InputLayer)         (None, 10)                0         \n",
            "_________________________________________________________________\n",
            "embedding_2 (Embedding)      (None, 10, 50)            20000050  \n",
            "_________________________________________________________________\n",
            "lstm_1 (LSTM)                (None, 10, 128)           91648     \n",
            "_________________________________________________________________\n",
            "dropout_1 (Dropout)          (None, 10, 128)           0         \n",
            "_________________________________________________________________\n",
            "lstm_2 (LSTM)                (None, 128)               131584    \n",
            "_________________________________________________________________\n",
            "dropout_2 (Dropout)          (None, 128)               0         \n",
            "_________________________________________________________________\n",
            "dense_1 (Dense)              (None, 5)                 645       \n",
            "_________________________________________________________________\n",
            "activation_1 (Activation)    (None, 5)                 0         \n",
            "=================================================================\n",
            "Total params: 20,223,927\n",
            "Trainable params: 223,877\n",
            "Non-trainable params: 20,000,050\n",
            "_________________________________________________________________\n"
          ],
          "name": "stdout"
        }
      ]
    },
    {
      "cell_type": "code",
      "metadata": {
        "collapsed": true,
        "id": "bYzANOsON9OP"
      },
      "source": [
        "model.compile(loss='categorical_crossentropy', optimizer='adam', metrics=['accuracy'])"
      ],
      "execution_count": null,
      "outputs": []
    },
    {
      "cell_type": "code",
      "metadata": {
        "collapsed": true,
        "id": "_6GN7Q_uN9OP"
      },
      "source": [
        "X_train_indices = sentences_to_indices(X_train, word_to_index, maxLen)\n",
        "Y_train_oh = convert_to_one_hot(Y_train, C = 5)"
      ],
      "execution_count": null,
      "outputs": []
    },
    {
      "cell_type": "code",
      "metadata": {
        "scrolled": true,
        "id": "HN8KtY-mN9OQ",
        "outputId": "6b834bd8-00e1-433d-ce6d-2d8d9f567ca6"
      },
      "source": [
        "model.fit(X_train_indices, Y_train_oh, epochs = 50, batch_size = 32, shuffle=True)"
      ],
      "execution_count": null,
      "outputs": [
        {
          "output_type": "stream",
          "text": [
            "Epoch 1/50\n",
            "132/132 [==============================] - 0s - loss: 1.6083 - acc: 0.1970     \n",
            "Epoch 2/50\n",
            "132/132 [==============================] - 0s - loss: 1.5328 - acc: 0.2955     \n",
            "Epoch 3/50\n",
            "132/132 [==============================] - 0s - loss: 1.5013 - acc: 0.3258     \n",
            "Epoch 4/50\n",
            "132/132 [==============================] - 0s - loss: 1.4392 - acc: 0.3561     \n",
            "Epoch 5/50\n",
            "132/132 [==============================] - 0s - loss: 1.3482 - acc: 0.4545     \n",
            "Epoch 6/50\n",
            "132/132 [==============================] - 0s - loss: 1.2342 - acc: 0.5152     \n",
            "Epoch 7/50\n",
            "132/132 [==============================] - 0s - loss: 1.1767 - acc: 0.4470     \n",
            "Epoch 8/50\n",
            "132/132 [==============================] - 0s - loss: 1.0549 - acc: 0.5682     \n",
            "Epoch 9/50\n",
            "132/132 [==============================] - 0s - loss: 0.8771 - acc: 0.7121     \n",
            "Epoch 10/50\n",
            "132/132 [==============================] - 0s - loss: 0.8229 - acc: 0.6970     \n",
            "Epoch 11/50\n",
            "132/132 [==============================] - 0s - loss: 0.7032 - acc: 0.7500     \n",
            "Epoch 12/50\n",
            "132/132 [==============================] - 0s - loss: 0.6001 - acc: 0.8030     \n",
            "Epoch 13/50\n",
            "132/132 [==============================] - 0s - loss: 0.4928 - acc: 0.8333     \n",
            "Epoch 14/50\n",
            "132/132 [==============================] - 0s - loss: 0.5097 - acc: 0.8333     \n",
            "Epoch 15/50\n",
            "132/132 [==============================] - 0s - loss: 0.4786 - acc: 0.8258     \n",
            "Epoch 16/50\n",
            "132/132 [==============================] - 0s - loss: 0.3539 - acc: 0.8636     \n",
            "Epoch 17/50\n",
            "132/132 [==============================] - 0s - loss: 0.3906 - acc: 0.8636     \n",
            "Epoch 18/50\n",
            "132/132 [==============================] - 0s - loss: 0.6459 - acc: 0.8182     \n",
            "Epoch 19/50\n",
            "132/132 [==============================] - 0s - loss: 0.5163 - acc: 0.8182     - ETA: 0s - loss: 0.5298 - acc: 0.812\n",
            "Epoch 20/50\n",
            "132/132 [==============================] - 0s - loss: 0.3948 - acc: 0.8409     \n",
            "Epoch 21/50\n",
            "132/132 [==============================] - 0s - loss: 0.4715 - acc: 0.8182     \n",
            "Epoch 22/50\n",
            "132/132 [==============================] - 0s - loss: 0.3901 - acc: 0.8636     \n",
            "Epoch 23/50\n",
            "132/132 [==============================] - 0s - loss: 0.3786 - acc: 0.8561     - ETA: 0s - loss: 0.3226 - acc: 0.89\n",
            "Epoch 24/50\n",
            "132/132 [==============================] - 0s - loss: 0.3062 - acc: 0.9091     \n",
            "Epoch 25/50\n",
            "132/132 [==============================] - 0s - loss: 0.3480 - acc: 0.8864     \n",
            "Epoch 26/50\n",
            "132/132 [==============================] - 0s - loss: 0.2429 - acc: 0.9394     \n",
            "Epoch 27/50\n",
            "132/132 [==============================] - 0s - loss: 0.3157 - acc: 0.8864     \n",
            "Epoch 28/50\n",
            "132/132 [==============================] - 0s - loss: 0.2414 - acc: 0.9318     \n",
            "Epoch 29/50\n",
            "132/132 [==============================] - 0s - loss: 0.3912 - acc: 0.8712     \n",
            "Epoch 30/50\n",
            "132/132 [==============================] - 0s - loss: 0.2652 - acc: 0.9091     \n",
            "Epoch 31/50\n",
            "132/132 [==============================] - 0s - loss: 0.2939 - acc: 0.8864     \n",
            "Epoch 32/50\n",
            "132/132 [==============================] - 0s - loss: 0.2002 - acc: 0.9394     \n",
            "Epoch 33/50\n",
            "132/132 [==============================] - 0s - loss: 0.2101 - acc: 0.9470     \n",
            "Epoch 34/50\n",
            "132/132 [==============================] - 0s - loss: 0.1591 - acc: 0.9621     \n",
            "Epoch 35/50\n",
            "132/132 [==============================] - 0s - loss: 0.1650 - acc: 0.9621     \n",
            "Epoch 36/50\n",
            "132/132 [==============================] - 0s - loss: 0.1912 - acc: 0.9394     \n",
            "Epoch 37/50\n",
            "132/132 [==============================] - 0s - loss: 0.1864 - acc: 0.9470     \n",
            "Epoch 38/50\n",
            "132/132 [==============================] - 0s - loss: 0.2220 - acc: 0.9318     \n",
            "Epoch 39/50\n",
            "132/132 [==============================] - 0s - loss: 0.1417 - acc: 0.9621     \n",
            "Epoch 40/50\n",
            "132/132 [==============================] - 0s - loss: 0.1590 - acc: 0.9545     \n",
            "Epoch 41/50\n",
            "132/132 [==============================] - 0s - loss: 0.0880 - acc: 0.9848     \n",
            "Epoch 42/50\n",
            "132/132 [==============================] - 0s - loss: 0.0831 - acc: 0.9773     \n",
            "Epoch 43/50\n",
            "132/132 [==============================] - 0s - loss: 0.0822 - acc: 0.9848     \n",
            "Epoch 44/50\n",
            "132/132 [==============================] - 0s - loss: 0.0507 - acc: 0.9924     \n",
            "Epoch 45/50\n",
            "132/132 [==============================] - 0s - loss: 0.0778 - acc: 0.9848     \n",
            "Epoch 46/50\n",
            "132/132 [==============================] - 0s - loss: 0.0948 - acc: 0.9773     \n",
            "Epoch 47/50\n",
            "132/132 [==============================] - 0s - loss: 0.1400 - acc: 0.9470     \n",
            "Epoch 48/50\n",
            "132/132 [==============================] - 0s - loss: 0.3215 - acc: 0.9242     \n",
            "Epoch 49/50\n",
            "132/132 [==============================] - 0s - loss: 0.1095 - acc: 0.9848     \n",
            "Epoch 50/50\n",
            "132/132 [==============================] - 0s - loss: 0.1473 - acc: 0.9545     \n"
          ],
          "name": "stdout"
        },
        {
          "output_type": "execute_result",
          "data": {
            "text/plain": [
              "<keras.callbacks.History at 0x7fdca650e390>"
            ]
          },
          "metadata": {
            "tags": []
          },
          "execution_count": 27
        }
      ]
    },
    {
      "cell_type": "code",
      "metadata": {
        "scrolled": true,
        "id": "_4dKgPomN9OR",
        "outputId": "8e3eead5-deae-4c48-919f-8cde2d5546bf"
      },
      "source": [
        "X_test_indices = sentences_to_indices(X_test, word_to_index, max_len = maxLen)\n",
        "Y_test_oh = convert_to_one_hot(Y_test, C = 5)\n",
        "loss, acc = model.evaluate(X_test_indices, Y_test_oh)\n",
        "print()\n",
        "print(\"Test accuracy = \", acc)"
      ],
      "execution_count": null,
      "outputs": [
        {
          "output_type": "stream",
          "text": [
            "32/56 [================>.............] - ETA: 0s\n",
            "Test accuracy =  0.821428562914\n"
          ],
          "name": "stdout"
        }
      ]
    },
    {
      "cell_type": "code",
      "metadata": {
        "id": "tFlIDQKvN9OR",
        "outputId": "14324adc-6c18-4b90-fe64-53fe2e845e35"
      },
      "source": [
        "# This code allows you to see the mislabelled examples\n",
        "C = 5\n",
        "y_test_oh = np.eye(C)[Y_test.reshape(-1)]\n",
        "X_test_indices = sentences_to_indices(X_test, word_to_index, maxLen)\n",
        "pred = model.predict(X_test_indices)\n",
        "for i in range(len(X_test)):\n",
        "    x = X_test_indices\n",
        "    num = np.argmax(pred[i])\n",
        "    if(num != Y_test[i]):\n",
        "        print('Expected emoji:'+ label_to_emoji(Y_test[i]) + ' prediction: '+ X_test[i] + label_to_emoji(num).strip())"
      ],
      "execution_count": null,
      "outputs": [
        {
          "output_type": "stream",
          "text": [
            "Expected emoji:😄 prediction: she got me a nice present\t❤️\n",
            "Expected emoji:😞 prediction: work is hard\t😄\n",
            "Expected emoji:😞 prediction: This girl is messing with me\t❤️\n",
            "Expected emoji:🍴 prediction: any suggestions for dinner\t😄\n",
            "Expected emoji:❤️ prediction: I love taking breaks\t😞\n",
            "Expected emoji:😄 prediction: you brighten my day\t❤️\n",
            "Expected emoji:😄 prediction: will you be my valentine\t❤️\n",
            "Expected emoji:🍴 prediction: See you at the restaurant\t❤️\n",
            "Expected emoji:😞 prediction: go away\t⚾\n",
            "Expected emoji:🍴 prediction: I did not have breakfast ❤️\n"
          ],
          "name": "stdout"
        }
      ]
    },
    {
      "cell_type": "code",
      "metadata": {
        "id": "IrG299EVN9OS",
        "outputId": "a83d8cc6-6ddf-4772-8740-f6ca50cdc6bf"
      },
      "source": [
        "# Change the sentence below to see your prediction. Make sure all the words are in the Glove embeddings.  \n",
        "x_test = np.array(['not feeling happy'])\n",
        "X_test_indices = sentences_to_indices(x_test, word_to_index, maxLen)\n",
        "print(x_test[0] +' '+  label_to_emoji(np.argmax(model.predict(X_test_indices))))"
      ],
      "execution_count": null,
      "outputs": [
        {
          "output_type": "stream",
          "text": [
            "not feeling happy 😞\n"
          ],
          "name": "stdout"
        }
      ]
    }
  ]
}